{
  "nbformat": 4,
  "nbformat_minor": 0,
  "metadata": {
    "colab": {
      "provenance": [],
      "authorship_tag": "ABX9TyO/eSaTDga9VA/Jci9j4sYE",
      "include_colab_link": true
    },
    "kernelspec": {
      "name": "python3",
      "display_name": "Python 3"
    },
    "language_info": {
      "name": "python"
    }
  },
  "cells": [
    {
      "cell_type": "markdown",
      "metadata": {
        "id": "view-in-github",
        "colab_type": "text"
      },
      "source": [
        "<a href=\"https://colab.research.google.com/github/StyvenSoft/numerical-methods/blob/main/Ejercicio_2_Teor%C3%ADa_de_Errores.ipynb\" target=\"_parent\"><img src=\"https://colab.research.google.com/assets/colab-badge.svg\" alt=\"Open In Colab\"/></a>"
      ]
    },
    {
      "cell_type": "markdown",
      "source": [
        "<center>\n",
        "\n",
        "# Métodos Numéricos\n",
        "\n",
        "## Tarea 1 Teoría de Errores y Solución de Ecuaciones No Lineales\n",
        "\n",
        "\n",
        "### Presentado por: Hugo Steveen Echeverri Silva\n",
        "\n",
        "Grupo: 100401_48\n",
        "\n",
        "Código: 1061740738\n",
        "\n",
        "Presentado a: Henock Venegas Gomez\n",
        "\n",
        "Universidad Nacional Abierta y a Distancia – UNAD\n",
        "\n",
        "17/02/2023\n",
        "</center>"
      ],
      "metadata": {
        "id": "7ysTB_zS8lA_"
      }
    },
    {
      "cell_type": "markdown",
      "source": [
        "Descripción del ejercicio:\n",
        "\n",
        "Desarrollo de un programa Python que determine los polinomios Taylor desde el grado cero (0) hasta el grado cinco (5) usando celdas de código y sustentando las líneas de código de cada paso con comentarios\n",
        "\n",
        "La funcion para el ejercicio es:\n",
        "$A: f(x)=e^{x/3}$ , centrado en 𝑎=0 y evaluado en 𝑥=0.2"
      ],
      "metadata": {
        "id": "FXueR5_gE84K"
      }
    },
    {
      "cell_type": "markdown",
      "source": [
        "## Series de Taylor\n",
        "\n",
        "Las Series de Taylor son una herramienta matemática fundamental en el análisis numérico y en muchas otras áreas de las matemáticas aplicadas y teóricas. Son una manera de aproximar funciones mediante una combinación infinita de términos polinómicos, lo que permite realizar cálculos numéricos de alta precisión y obtener información teórica sobre el comportamiento de las funciones.\n",
        "\n",
        "La fórmula de la Serie de Taylor para una función 𝑓(𝑥) centrada en 𝑎 es:\n",
        "\n",
        "$$\n",
        "f(x) = \\sum_{n=0}^{\\infty} \\frac{f^{(n)}(a)}{n!}(x-a)^n\n",
        "$$\n",
        " \n",
        "Donde 𝑓^(𝑛)(𝑎) representa la n-ésima derivada de 𝑓(𝑥) evaluada en 𝑥=𝑎. Esta fórmula establece que cualquier función suave y suficientemente bien comportada se puede aproximar por una combinación infinita de términos polinómicos, donde cada término representa una cierta cantidad de variación local en la función.\n",
        "\n",
        "La fórmula de la Serie de Taylor puede ser utilizada para aproximar el valor de una función en un punto cercano a 𝑎. En particular, si nos interesa aproximar el valor de 𝑓(𝑥) en un punto 𝑥 cercano a 𝑎, podemos utilizar la Serie de Taylor truncada a un cierto número finito de términos para obtener una buena aproximación. La aproximación resultante será más precisa cuanto más términos incluyamos en la serie.\n",
        "\n",
        "La fórmula de la Serie de Taylor también puede ser utilizada para derivar propiedades teóricas sobre las funciones. Por ejemplo, podemos utilizar la serie para derivar las derivadas de una función en términos de la función misma y sus derivadas anteriores. Esto es especialmente útil en la resolución de ecuaciones diferenciales y en el estudio de los comportamientos asintóticos de las funciones."
      ],
      "metadata": {
        "id": "OV-kyyuyIto2"
      }
    },
    {
      "cell_type": "code",
      "source": [
        "# Importar la libreria Numpy y Math que proporciona acceso a las funciones matemáticas definidas\n",
        "import numpy as np\n",
        "import math\n",
        "\n",
        "# Creamos la función y su derivada usando la función exponencial de numpy\n",
        "def f(x):\n",
        "    return np.exp(x/3)\n",
        "\n",
        "# Definimos la función que calcula el polinomio de Taylor de grado n alrededor de a para f(x)\n",
        "def taylor(f, a, n, x):\n",
        "    # Inicializar el polinomio de Taylor como f(a)\n",
        "    t = f(a)\n",
        "    # Calcular las derivadas de f hasta orden n y añadir cada término al polinomio de Taylor\n",
        "    for i in range(1, n+1):\n",
        "        deriv = f_deriv(f, a, i)\n",
        "        numerador = \"x\" if i == 1 else f\"(x-0)**{i}\"\n",
        "        denominador = str(math.factorial(i))\n",
        "        termino = str(deriv) + \"/\" + denominador + \" * \" + numerador\n",
        "        t += eval(termino)\n",
        "    return t\n",
        "\n",
        "# Definimos la función que calcula la i-ésima derivada de f(x) evaluada en el parametro (a)\n",
        "def f_deriv(f, a, i):\n",
        "    # Usamos la definición derivada para calcular la i-ésima derivada de f(x)\n",
        "    if i == 1:\n",
        "        return (f(a + h) - f(a - h)) / (2 * h)\n",
        "    else:\n",
        "        return (f_deriv(f, a + h, i-1) - f_deriv(f, a - h, i-1)) / (2 * h)\n",
        "\n",
        "# Definimos los valores de a, x y h\n",
        "a = 0\n",
        "x = 0.2\n",
        "h = 0.0001\n",
        "\n",
        "# Calculamos los polinomios de Taylor de grado 0 a 5\n",
        "for n in range(6):\n",
        "    t = taylor(f, a, n, x)\n",
        "    print(\"polinomio_grado_\" + str(n) + \"(x) = \" + str(t))"
      ],
      "metadata": {
        "colab": {
          "base_uri": "https://localhost:8080/"
        },
        "id": "lNmcVlcv91Jy",
        "outputId": "8ef5c55f-765a-4528-f096-e2eca1cd94c3"
      },
      "execution_count": 12,
      "outputs": [
        {
          "output_type": "stream",
          "name": "stdout",
          "text": [
            "polinomio_grado_0(x) = 1.0\n",
            "polinomio_grado_1(x) = 1.0666666666790938\n",
            "polinomio_grado_2(x) = 1.06888888891865\n",
            "polinomio_grado_3(x) = 1.0689382383320947\n",
            "polinomio_grado_4(x) = 1.0689336124028255\n",
            "polinomio_grado_5(x) = 1.0735595416720969\n"
          ]
        }
      ]
    }
  ]
}