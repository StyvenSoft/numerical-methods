{
  "nbformat": 4,
  "nbformat_minor": 0,
  "metadata": {
    "colab": {
      "provenance": [],
      "authorship_tag": "ABX9TyMMyW5GA5hkjMesAAIrrkED",
      "include_colab_link": true
    },
    "kernelspec": {
      "name": "python3",
      "display_name": "Python 3"
    },
    "language_info": {
      "name": "python"
    }
  },
  "cells": [
    {
      "cell_type": "markdown",
      "metadata": {
        "id": "view-in-github",
        "colab_type": "text"
      },
      "source": [
        "<a href=\"https://colab.research.google.com/github/StyvenSoft/numerical-methods/blob/main/Ejercicio_2_Teor%C3%ADa_de_Errores.ipynb\" target=\"_parent\"><img src=\"https://colab.research.google.com/assets/colab-badge.svg\" alt=\"Open In Colab\"/></a>"
      ]
    },
    {
      "cell_type": "markdown",
      "source": [
        "<center>\n",
        "\n",
        "# Métodos Numéricos\n",
        "\n",
        "## Tarea 1 Teoría de Errores y Solución de Ecuaciones No Lineales\n",
        "\n",
        "\n",
        "### Presentado por: Hugo Steveen Echeverri Silva\n",
        "\n",
        "Grupo: 100401_48\n",
        "\n",
        "Código: 1061740738\n",
        "\n",
        "Presentado a: Henock Venegas Gomez\n",
        "\n",
        "Universidad Nacional Abierta y a Distancia – UNAD\n",
        "\n",
        "17/02/2023\n",
        "</center>"
      ],
      "metadata": {
        "id": "7ysTB_zS8lA_"
      }
    },
    {
      "cell_type": "markdown",
      "source": [
        "Descripción del ejercicio:\n",
        "\n",
        "La funcion para el ejercicio es:\n",
        "$A: 𝑓(𝑥)=𝑒^𝑥/3 $ , centrado en 𝑎=0 y evaluado en 𝑥=0.2"
      ],
      "metadata": {
        "id": "FXueR5_gE84K"
      }
    },
    {
      "cell_type": "markdown",
      "source": [
        "Las Series de Taylor son una herramienta matemática fundamental en el análisis numérico y en muchas otras áreas de las matemáticas aplicadas y teóricas. Son una manera de aproximar funciones mediante una combinación infinita de términos polinómicos, lo que permite realizar cálculos numéricos de alta precisión y obtener información teórica sobre el comportamiento de las funciones.\n",
        "\n",
        "La fórmula de la Serie de Taylor para una función 𝑓(𝑥) centrada en 𝑎 es:\n",
        "\n",
        "$$\n",
        "f(x) = \\sum_{n=0}^{\\infty} \\frac{f^{(n)}(a)}{n!}(x-a)^n\n",
        "$$\n",
        " \n",
        "Donde 𝑓^(𝑛)(𝑎) representa la n-ésima derivada de 𝑓(𝑥) evaluada en 𝑥=𝑎. Esta fórmula establece que cualquier función suave y suficientemente bien comportada se puede aproximar por una combinación infinita de términos polinómicos, donde cada término representa una cierta cantidad de variación local en la función.\n",
        "\n",
        "La fórmula de la Serie de Taylor puede ser utilizada para aproximar el valor de una función en un punto cercano a 𝑎. En particular, si nos interesa aproximar el valor de 𝑓(𝑥) en un punto 𝑥 cercano a 𝑎, podemos utilizar la Serie de Taylor truncada a un cierto número finito de términos para obtener una buena aproximación. La aproximación resultante será más precisa cuanto más términos incluyamos en la serie.\n",
        "\n",
        "La fórmula de la Serie de Taylor también puede ser utilizada para derivar propiedades teóricas sobre las funciones. Por ejemplo, podemos utilizar la serie para derivar las derivadas de una función en términos de la función misma y sus derivadas anteriores. Esto es especialmente útil en la resolución de ecuaciones diferenciales y en el estudio de los comportamientos asintóticos de las funciones."
      ],
      "metadata": {
        "id": "OV-kyyuyIto2"
      }
    },
    {
      "cell_type": "code",
      "source": [
        "import numpy as np\n",
        "\n",
        "# Definimos la función y su derivada\n",
        "def f(x):\n",
        "  return np.exp(x/3)\n",
        "\n",
        "def f_deriv(x):\n",
        "  return (1/3) * np.exp(x/3)\n",
        "\n",
        "# Calculamos la aproximación de Taylor\n",
        "taylor = 1 + f_deriv(0) * 0.2 + (1/2) * (1/9) * np.exp(0/3) * 0.2**2\n",
        "\n",
        "# Calculamos el error absoluto\n",
        "exact = f(0.2)\n",
        "error_abs = abs(taylor - exact)\n",
        "\n",
        "# Imprimimos los resultados\n",
        "print(\"Aproximación de Taylor:\", taylor)\n",
        "print(\"Valor exacto:\", exact)\n",
        "print(\"Error absoluto:\", error_abs)"
      ],
      "metadata": {
        "colab": {
          "base_uri": "https://localhost:8080/"
        },
        "id": "0buC6lRxGPQs",
        "outputId": "4a7a6bde-22b3-4aa5-9c82-fb912c8b1918"
      },
      "execution_count": 2,
      "outputs": [
        {
          "output_type": "stream",
          "name": "stdout",
          "text": [
            "Aproximación de Taylor: 1.0688888888888888\n",
            "Valor exacto: 1.0689391057472464\n",
            "Error absoluto: 5.021685835759904e-05\n"
          ]
        }
      ]
    }
  ]
}