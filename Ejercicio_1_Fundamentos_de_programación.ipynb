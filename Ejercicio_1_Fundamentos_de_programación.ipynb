{
  "nbformat": 4,
  "nbformat_minor": 0,
  "metadata": {
    "colab": {
      "provenance": [],
      "authorship_tag": "ABX9TyORwB7A9pSvPLvz9c1tnEr4",
      "include_colab_link": true
    },
    "kernelspec": {
      "name": "python3",
      "display_name": "Python 3"
    },
    "language_info": {
      "name": "python"
    }
  },
  "cells": [
    {
      "cell_type": "markdown",
      "metadata": {
        "id": "view-in-github",
        "colab_type": "text"
      },
      "source": [
        "<a href=\"https://colab.research.google.com/github/StyvenSoft/numerical-methods/blob/main/Ejercicio_1_Fundamentos_de_programaci%C3%B3n.ipynb\" target=\"_parent\"><img src=\"https://colab.research.google.com/assets/colab-badge.svg\" alt=\"Open In Colab\"/></a>"
      ]
    },
    {
      "cell_type": "markdown",
      "source": [
        "<center>\n",
        "\n",
        "# Métodos Numéricos\n",
        "\n",
        "## Tarea 1 Teoría de Errores y Solución de Ecuaciones No Lineales\n",
        "\n",
        "\n",
        "### Presentado por: Hugo Steveen Echeverri Silva\n",
        "\n",
        "Grupo: 100401_48\n",
        "\n",
        "Código: 1061740738\n",
        "\n",
        "Presentado a: Henock Venegas Gomez\n",
        "\n",
        "Universidad Nacional Abierta y a Distancia – UNAD\n",
        "\n",
        "10/02/2023\n",
        "</center>"
      ],
      "metadata": {
        "id": "zfKezSe2xwSh"
      }
    },
    {
      "cell_type": "markdown",
      "source": [
        "## Ejercicio 1: Fundamentos de programación\n",
        "\n",
        "A: La Suma de Riemann Superior.\n",
        "\n",
        "La función a la cual se le debe aproximar el área bajo la curva es:\n",
        "\n",
        "\n",
        "$$f\\left(x\\right) = e^{(\\frac{3x}{5})} +2$$ \n",
        "\n",
        "\n",
        "En el intervalo [0,3]. Y las aproximaciones que se deben generar están determinadas por las particiones\n",
        "\n",
        "Partición(n) = 4, 10, 700, 6000\n",
        "\n"
      ],
      "metadata": {
        "id": "YSMJPcpgzpv2"
      }
    },
    {
      "cell_type": "markdown",
      "source": [
        "## Introducción a las Sumas de Riemann\n",
        "\n",
        "Las sumas de Riemann son una herramienta fundamental en el cálculo integral. Fueron desarrolladas por el matemático alemán Bernhard Riemann en el siglo XIX, y se utilizan para aproximar el área debajo de una curva en un intervalo dado.\n",
        "\n",
        "En términos simples, una suma de Riemann es una suma de productos de la altura de una función en ciertos puntos dentro de un intervalo, multiplicados por la longitud de ese intervalo. La idea es que, si tomamos intervalos cada vez más pequeños y sumamos los productos correspondientes, nos acercaremos cada vez más a la verdadera área debajo de la curva.\n",
        "\n",
        "La fórmula para una suma de Riemann de una función $f\\left(x\\right)$ en el intervalo [a,b] se define como:\n",
        "\n",
        "$$\n",
        "\\sum_{i=1}^{n} f(x_i)(x_i - x_{i-1})\n",
        "$$\n",
        "\n",
        "donde n es el número de subintervalos que se dividen [a,b], $x_i$ es el punto inicial del i-ésimo subintervalo, $x_{i-1}$ es el punto final del (i-1)-ésimo subintervalo, y $x_i$ es cualquier punto dentro del i-ésimo subintervalo. La altura de la función en $x_i$ se multiplica por la longitud del subintervalo $x_i - x_{i-1}$ y se suman todos los productos.\n",
        "\n",
        "La idea es que, a medida que se aumenta el número de subintervalos n, se obtiene una aproximación cada vez mejor del área debajo de la curva. De hecho, si tomamos el límite de la suma de Riemann cuando el número de subintervalos se acerca a infinito, llegamos a la definición del cálculo integral:\n",
        "\n",
        "\\begin{equation*}\n",
        "\\int_{a}^{b} f(x)dx\n",
        "\\end{equation*}\n",
        "\n",
        "Las sumas de Riemann son una herramienta fundamental para aproximar el área debajo de una curva en un intervalo dado. Se basan en la idea de sumar productos de la altura de la función en ciertos puntos dentro de subintervalos cada vez más pequeños. A medida que aumentamos el número de subintervalos, obtenemos una aproximación cada vez mejor del área debajo de la curva, y cuando el número de subintervalos se acerca a infinito, llegamos a la definición del cálculo integral."
      ],
      "metadata": {
        "id": "Sq-pbN-m34IO"
      }
    },
    {
      "cell_type": "markdown",
      "source": [
        "## Sumas de Riemann Superior\n",
        "\n",
        "En el cálculo de las sumas de Riemann, la aproximación del área debajo de la curva se mejora a medida que se aumenta el número de subintervalos en el intervalo dado. Sin embargo, la elección de los puntos de muestra dentro de cada subintervalo también es importante para mejorar la precisión de la aproximación.\n",
        "\n",
        "Una suma de Riemann superior es una aproximación al área debajo de la curva en un intervalo dado, en la que se toma como punto de muestra el valor máximo de la función en cada subintervalo. Es decir, si $M_i$ es el valor máximo de la función $f\\left(x\\right)$ en el i-ésimo subintervalo $[x_{i-1}, x_i]$, entonces la suma de Riemann superior está dada por:\n",
        "\n",
        "\\begin{equation*}\n",
        "S_n = \\sum_{i=1}^{n} M_i \\Delta x_i\n",
        "\\end{equation*}\n",
        "\n",
        "donde $\\Delta x_i = x_i - x_{i-1}$ es la longitud del i-ésimo subintervalo.\n",
        "\n",
        "En términos gráficos, la suma de Riemann superior se obtiene sumando las áreas de los rectángulos superiores a la curva en cada subintervalo, como se muestra en la siguiente figura:\n",
        "\n",
        "Suma de Riemann superior\n",
        "\n",
        "La suma de Riemann superior es una aproximación superior al área debajo de la curva en el intervalo dado, ya que la altura de cada rectángulo es mayor que la altura real de la función en la mayoría de los puntos dentro del subintervalo. Por lo tanto, la suma de Riemann superior es una cota superior al valor real del área debajo de la curva.\n",
        "\n",
        "En general, la suma de Riemann superior se utiliza cuando se desea una cota superior al área debajo de la curva, como en la estimación del error en la aproximación mediante sumas de Riemann. Sin embargo, para obtener una aproximación más precisa, se puede utilizar una combinación de sumas de Riemann superior e inferior, o incluso una suma de Riemann media, que toma como punto de muestra el valor medio de la función en cada subintervalo."
      ],
      "metadata": {
        "id": "mUXVmGHM-mKz"
      }
    },
    {
      "cell_type": "code",
      "source": [
        "# Importar la libreria Numpy proporciona acceso a las funciones matemáticas definidas\n",
        "import numpy as np\n",
        "\n",
        "# Instanciamos dos variables con los intervalos de integración [0, 3]\n",
        "a = 0\n",
        "b = 3\n",
        "\n",
        "# Creamos una lista de elementos con las particiones\n",
        "particiones = [4, 10, 700, 6000]\n",
        "\n",
        "# Calculamos el valor real de la integral y lo guardamos en una variable\n",
        "integral_real = 5/3 * (np.exp(9/5) - 1)\n",
        "\n",
        "# Creamos una función para f(x)\n",
        "def f(x):\n",
        "    # Retornamos el valor utilizando la libreria numpy usando la función exponencial\n",
        "    return np.exp(3*x/5) + 2\n",
        "\n",
        "# Creamos otra función para calcular la suma de Riemann superior\n",
        "# lleva como parametros la f-string para imprimir la variable {}, los intervalos a, b, y una variable iteradora n\n",
        "def riemann_sum_upper(f, a, b, n):\n",
        "    # Creamos una variable con el calculo de delta de X\n",
        "    delta_x = (b - a) / n\n",
        "    # Creamos una función para calcular la suma de riemann por medio de la función sum(iterable, inicio) \n",
        "    riemann_sum = sum([f(a + delta_x*(i+1)) for i in range(n)])\n",
        "    # Retornamos el resultado de la suma de riemann por denta de X\n",
        "    return riemann_sum * delta_x\n",
        "\n",
        "# Creamos una función para calcular el error porcentual pasandole dos parametros la integral_real y la riemann_sum\n",
        "def error_porcentual(integral_real, riemann_sum):\n",
        "    # Retornamos el resultado usando la duncion abs() que devuelve el valor absoluto dividiendo por la integral real\n",
        "    return abs(integral_real - riemann_sum) / integral_real * 100\n",
        "\n",
        "# Cálculamos la suma de Riemann superior y el error porcentual para cada partición por medio de un buble FOR que itera sobre las particiones\n",
        "for n in particiones:\n",
        "    # Guardamos el resultado de la funcion de suma de riemann superior en la variable riemann_sum para pasarselo a la funcion de error_porcentual\n",
        "    riemann_sum = riemann_sum_upper(f, a, b, n)\n",
        "    # Guardamos el resultado de la funcion error_porcentual para imprimirlo\n",
        "    error = error_porcentual(integral_real, riemann_sum)\n",
        "    # Realizamos la impresion de los resultados que iteran sobre cada partición\n",
        "    print(f\"Particiones = {n}\")\n",
        "    print(f\"Suma de Riemann superior = {riemann_sum}\")\n",
        "    print(f\"Error porcentual = {error:.2f}%\\n\")"
      ],
      "metadata": {
        "id": "41soL3Th9OPi",
        "outputId": "24939319-999b-4c73-d0b6-01a19ddf1402",
        "colab": {
          "base_uri": "https://localhost:8080/"
        }
      },
      "execution_count": 2,
      "outputs": [
        {
          "output_type": "stream",
          "name": "stdout",
          "text": [
            "Particiones = 4\n",
            "Suma de Riemann superior = 16.45124121881778\n",
            "Error porcentual = 95.47%\n",
            "\n",
            "Particiones = 10\n",
            "Suma de Riemann superior = 15.196237379421634\n",
            "Error porcentual = 80.56%\n",
            "\n",
            "Particiones = 700\n",
            "Suma de Riemann superior = 14.42690441792378\n",
            "Error porcentual = 71.42%\n",
            "\n",
            "Particiones = 6000\n",
            "Suma de Riemann superior = 14.417341582341585\n",
            "Error porcentual = 71.31%\n",
            "\n"
          ]
        }
      ]
    }
  ]
}