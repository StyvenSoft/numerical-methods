{
  "nbformat": 4,
  "nbformat_minor": 0,
  "metadata": {
    "colab": {
      "provenance": [],
      "authorship_tag": "ABX9TyNSjo543LciUPyRNq57gfji",
      "include_colab_link": true
    },
    "kernelspec": {
      "name": "python3",
      "display_name": "Python 3"
    },
    "language_info": {
      "name": "python"
    }
  },
  "cells": [
    {
      "cell_type": "markdown",
      "metadata": {
        "id": "view-in-github",
        "colab_type": "text"
      },
      "source": [
        "<a href=\"https://colab.research.google.com/github/StyvenSoft/numerical-methods/blob/main/Ejercicio_1_Fundamentos_de_programaci%C3%B3n.ipynb\" target=\"_parent\"><img src=\"https://colab.research.google.com/assets/colab-badge.svg\" alt=\"Open In Colab\"/></a>"
      ]
    },
    {
      "cell_type": "markdown",
      "source": [
        "# Métodos Numéricos\n",
        "\n",
        "## Tarea 1 Teoría de Errores y Solución de Ecuaciones No Lineales\n",
        "\n",
        "\n",
        "### Presentado por: Hugo Steveen Echeverri Silva\n",
        "\n",
        "Grupo: 100401_48\n",
        "\n",
        "Código\n",
        "Presentado a: HENOCK VENEGAS\n",
        "\n",
        "Universidad Nacional Abierta y a Distancia – UNAD\n",
        "\n",
        "10/02/2023"
      ],
      "metadata": {
        "id": "zfKezSe2xwSh"
      }
    },
    {
      "cell_type": "markdown",
      "source": [
        "Presentación del ejercicio:\n",
        "\n",
        "A: La Suma de Riemann Superior.\n",
        "\n",
        "La función a la cual se le debe aproximar el área bajo la curva es:\n",
        "\n",
        "\n",
        "$$f\\left(x\\right) = e^{(\\frac{3x}{5})} +2$$ \n",
        "\n"
      ],
      "metadata": {
        "id": "YSMJPcpgzpv2"
      }
    },
    {
      "cell_type": "markdown",
      "source": [
        "## Introducción a las Sumas de Riemann\n",
        "\n",
        "Las sumas de Riemann son una herramienta fundamental en el cálculo integral. Fueron desarrolladas por el matemático alemán Bernhard Riemann en el siglo XIX, y se utilizan para aproximar el área debajo de una curva en un intervalo dado.\n",
        "\n",
        "En términos simples, una suma de Riemann es una suma de productos de la altura de una función en ciertos puntos dentro de un intervalo, multiplicados por la longitud de ese intervalo. La idea es que, si tomamos intervalos cada vez más pequeños y sumamos los productos correspondientes, nos acercaremos cada vez más a la verdadera área debajo de la curva.\n",
        "\n",
        "La fórmula para una suma de Riemann de una función $f\\left(x\\right)$ en el intervalo [a,b] se define como:\n",
        "\n",
        "$$\n",
        "\\sum_{i=1}^{n} f(x_i)(x_i - x_{i-1})\n",
        "$$\n",
        "\n",
        "donde n es el número de subintervalos que se dividen [a,b], $x_i$ es el punto inicial del i-ésimo subintervalo, $x_{i-1}$ es el punto final del (i-1)-ésimo subintervalo, y $x_i$ es cualquier punto dentro del i-ésimo subintervalo. La altura de la función en $x_i$ se multiplica por la longitud del subintervalo $x_i - x_{i-1}$ y se suman todos los productos.\n",
        "\n",
        "La idea es que, a medida que se aumenta el número de subintervalos n, se obtiene una aproximación cada vez mejor del área debajo de la curva. De hecho, si tomamos el límite de la suma de Riemann cuando el número de subintervalos se acerca a infinito, llegamos a la definición del cálculo integral:\n",
        "\n",
        "\\begin{equation*}\n",
        "\\int_{a}^{b} f(x)dx\n",
        "\\end{equation*}\n",
        "\n",
        "Las sumas de Riemann son una herramienta fundamental para aproximar el área debajo de una curva en un intervalo dado. Se basan en la idea de sumar productos de la altura de la función en ciertos puntos dentro de subintervalos cada vez más pequeños. A medida que aumentamos el número de subintervalos, obtenemos una aproximación cada vez mejor del área debajo de la curva, y cuando el número de subintervalos se acerca a infinito, llegamos a la definición del cálculo integral."
      ],
      "metadata": {
        "id": "Sq-pbN-m34IO"
      }
    },
    {
      "cell_type": "markdown",
      "source": [
        "## Sumas de Riemann Superior\n",
        "\n",
        "En el cálculo de las sumas de Riemann, la aproximación del área debajo de la curva se mejora a medida que se aumenta el número de subintervalos en el intervalo dado. Sin embargo, la elección de los puntos de muestra dentro de cada subintervalo también es importante para mejorar la precisión de la aproximación.\n",
        "\n",
        "Una suma de Riemann superior es una aproximación al área debajo de la curva en un intervalo dado, en la que se toma como punto de muestra el valor máximo de la función en cada subintervalo. Es decir, si $M_i$ es el valor máximo de la función $f\\left(x\\right)$ en el i-ésimo subintervalo $[x_{i-1}, x_i]$, entonces la suma de Riemann superior está dada por:\n",
        "\n",
        "\\begin{equation*}\n",
        "S_n = \\sum_{i=1}^{n} M_i \\Delta x_i\n",
        "\\end{equation*}\n",
        "\n",
        "donde $\\Delta x_i = x_i - x_{i-1}$ es la longitud del i-ésimo subintervalo.\n",
        "\n",
        "En términos gráficos, la suma de Riemann superior se obtiene sumando las áreas de los rectángulos superiores a la curva en cada subintervalo, como se muestra en la siguiente figura:\n",
        "\n",
        "Suma de Riemann superior\n",
        "\n",
        "La suma de Riemann superior es una aproximación superior al área debajo de la curva en el intervalo dado, ya que la altura de cada rectángulo es mayor que la altura real de la función en la mayoría de los puntos dentro del subintervalo. Por lo tanto, la suma de Riemann superior es una cota superior al valor real del área debajo de la curva.\n",
        "\n",
        "En general, la suma de Riemann superior se utiliza cuando se desea una cota superior al área debajo de la curva, como en la estimación del error en la aproximación mediante sumas de Riemann. Sin embargo, para obtener una aproximación más precisa, se puede utilizar una combinación de sumas de Riemann superior e inferior, o incluso una suma de Riemann media, que toma como punto de muestra el valor medio de la función en cada subintervalo."
      ],
      "metadata": {
        "id": "mUXVmGHM-mKz"
      }
    },
    {
      "cell_type": "code",
      "source": [
        "print(\"Sumas de Riemann\")"
      ],
      "metadata": {
        "colab": {
          "base_uri": "https://localhost:8080/"
        },
        "id": "KnC8zfGUyPX_",
        "outputId": "47c1c11b-b0b3-423a-ca5a-3a45b861dd53"
      },
      "execution_count": 1,
      "outputs": [
        {
          "output_type": "stream",
          "name": "stdout",
          "text": [
            "Sumas de Riemann\n"
          ]
        }
      ]
    }
  ]
}