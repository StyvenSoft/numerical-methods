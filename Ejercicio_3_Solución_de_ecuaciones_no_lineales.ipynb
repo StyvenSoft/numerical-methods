{
  "nbformat": 4,
  "nbformat_minor": 0,
  "metadata": {
    "colab": {
      "provenance": [],
      "authorship_tag": "ABX9TyOXqYfNS3XNZecnwHb29SAi",
      "include_colab_link": true
    },
    "kernelspec": {
      "name": "python3",
      "display_name": "Python 3"
    },
    "language_info": {
      "name": "python"
    }
  },
  "cells": [
    {
      "cell_type": "markdown",
      "metadata": {
        "id": "view-in-github",
        "colab_type": "text"
      },
      "source": [
        "<a href=\"https://colab.research.google.com/github/StyvenSoft/numerical-methods/blob/main/Ejercicio_3_Soluci%C3%B3n_de_ecuaciones_no_lineales.ipynb\" target=\"_parent\"><img src=\"https://colab.research.google.com/assets/colab-badge.svg\" alt=\"Open In Colab\"/></a>"
      ]
    },
    {
      "cell_type": "markdown",
      "source": [
        "<center>\n",
        "\n",
        "# Métodos Numéricos\n",
        "\n",
        "## Tarea 1 Teoría de Errores y Solución de Ecuaciones No Lineales\n",
        "\n",
        "\n",
        "### Presentado por: Hugo Steveen Echeverri Silva\n",
        "\n",
        "Grupo: 100401_48\n",
        "\n",
        "Código: 1061740738\n",
        "\n",
        "Presentado a: Henock Venegas Gomez\n",
        "\n",
        "Universidad Nacional Abierta y a Distancia – UNAD\n",
        "\n",
        "17/02/2023\n",
        "</center>"
      ],
      "metadata": {
        "id": "4SVetPw0MVOn"
      }
    },
    {
      "cell_type": "markdown",
      "source": [
        "## Descripción del ejercicio:\n",
        "\n",
        "Desarrollo de un código Python para los dos métodos que acompañan a la elección del ejercicio y que determine la raíz con una exactitud de 10−6.\n",
        "\n",
        "A. 𝑡𝑎𝑛(𝑥)𝑡𝑎𝑛ℎ(𝑥)=−1 (Métodos: Regla Falsa y Newton–Raphson)\n",
        "\n"
      ],
      "metadata": {
        "id": "d-MInjkSOqC9"
      }
    },
    {
      "cell_type": "markdown",
      "source": [
        "## Solución de ecuaciones no lineales\n",
        "\n",
        "La solución de ecuaciones no lineales es un problema fundamental en muchas áreas de la ciencia y la ingeniería. A diferencia de las ecuaciones lineales, que tienen soluciones analíticas precisas, las ecuaciones no lineales en general no tienen una solución cerrada, por lo que es necesario utilizar métodos numéricos para encontrar soluciones aproximadas.\n",
        "\n",
        "Existen numerosos métodos numéricos para la solución de ecuaciones no lineales, algunos de los cuales se presentan a continuación.\n",
        "\n",
        "\n",
        "**Método de Regla Falsa**\n",
        "\n",
        "El método de Regla Falsa es un método numérico utilizado para encontrar la raíz de una ecuación no lineal en un intervalo dado. Se utiliza un proceso de iteración en el que se van acotando los valores de la variable x que satisfacen la ecuación. La idea es que, dado un intervalo inicial $[a,b]$ en el que la función $f(x)$ cambia de signo, se divide el intervalo por la mitad y se evalúa la función en el punto medio. Si el producto de las evaluaciones en los extremos y en el punto medio es negativo, entonces se reemplaza el extremo que tiene el mismo signo que la evaluación en el punto medio, y si no, se reemplaza el otro extremo. Este proceso se repite hasta que la diferencia entre los extremos sea menor que la precisión deseada.\n",
        "\n",
        "La fórmula de iteración para el método de Regla Falsa es:\n",
        "\n",
        "\n",
        "$$c_n = (a_n*f(b_n) - b_n*f(a_n)) / (f(b_n) - f(a_n))$$\n",
        "\n",
        "\n",
        "**Método de Newton-Raphson**\n",
        "\n",
        "El método de Newton-Raphson es un método iterativo utilizado para encontrar la raíz de una ecuación no lineal en un intervalo dado. La idea es utilizar una aproximación inicial $x_0$ y una fórmula de iteración para encontrar la raíz de la ecuación. La fórmula es:\n",
        "\n",
        "$$x_{n+1} = x_n - f(x_n) / f'(x_n)$$\n",
        "\n",
        "donde $f'(x)$ es la derivada de $f(x)$. Este proceso se repite hasta que la diferencia entre dos iteraciones consecutivas sea menor que la precisión deseada.\n",
        "\n",
        "\n",
        "\n"
      ],
      "metadata": {
        "id": "sqCM99ULPbrD"
      }
    },
    {
      "cell_type": "code",
      "source": [
        "# Método de Regla Falsa\n",
        "\n",
        "import math\n",
        "\n",
        "# Creamos la función del ejercicio\n",
        "def f(x):\n",
        "    return math.tan(x) - math.tanh(x)\n",
        "\n",
        "# Se crea una variable con la precisión deseada\n",
        "precision = 1e-6\n",
        "\n",
        "# Se estable el intervalo inicial en el que la función cambia de signo\n",
        "a = 2\n",
        "b = 3\n",
        "\n",
        "# Se crea una condicional para la validación del teorema de Bolzano\n",
        "if f(a) * f(b) > 0:\n",
        "    print(\"El teorema de Bolzano no se cumple en el intervalo [a,b].\")\n",
        "else:\n",
        "    # Se crea un bucle WHILE para la iteración del método de Regla Falsa\n",
        "    while abs(b-a) > precision:\n",
        "        c = (a*f(b) - b*f(a)) / (f(b) - f(a))\n",
        "        if f(a)*f(c) < 0:\n",
        "            b = c\n",
        "        else:\n",
        "            a = c\n",
        "\n",
        "    # Realizamos la impresión del resultado\n",
        "    print(\"La raíz es:\", c)"
      ],
      "metadata": {
        "colab": {
          "base_uri": "https://localhost:8080/"
        },
        "id": "0nQY85o2YGS0",
        "outputId": "aaac97be-1f8f-40b9-f5ba-2a83b6d74a8c"
      },
      "execution_count": 1,
      "outputs": [
        {
          "output_type": "stream",
          "name": "stdout",
          "text": [
            "El teorema de Bolzano no se cumple en el intervalo [a,b].\n"
          ]
        }
      ]
    },
    {
      "cell_type": "code",
      "source": [
        "# Método de Newton-Raphson\n",
        "\n",
        "import math\n",
        "\n",
        "# Creamos la función del ejercicio\n",
        "def f(x):\n",
        "    return math.tan(x) - math.tanh(x)\n",
        "\n",
        "# Se crea una funcion df(x) para calcular la derivada de la función\n",
        "def df(x):\n",
        "    return 1 / math.cos(x)**2 - 1 / math.cosh(x)**2\n",
        "\n",
        "# Creamos una variable con la precisión deseada\n",
        "precision = 1e-6\n",
        "\n",
        "# Se establece una aproximación inicial\n",
        "x0 = 2.5\n",
        "\n",
        "# Creamos un bucle WHILE para realizar la iteración del método de Newton-Raphson\n",
        "while True:\n",
        "    xn = x0 - f(x0) / df(x0)\n",
        "    if abs(xn - x0) < precision:\n",
        "        break\n",
        "    x0 = xn\n",
        "\n",
        "# Realizamos la impresión del resultado\n",
        "print(\"La raíz es:\", xn)"
      ],
      "metadata": {
        "colab": {
          "base_uri": "https://localhost:8080/"
        },
        "id": "CRlKRpgxYX3c",
        "outputId": "7c8d7ec0-de4c-4de7-e77c-b2771b1b213b"
      },
      "execution_count": 2,
      "outputs": [
        {
          "output_type": "stream",
          "name": "stdout",
          "text": [
            "La raíz es: 3.9266023120479185\n"
          ]
        }
      ]
    }
  ]
}